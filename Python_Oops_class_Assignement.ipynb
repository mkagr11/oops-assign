{
  "nbformat": 4,
  "nbformat_minor": 0,
  "metadata": {
    "colab": {
      "provenance": []
    },
    "kernelspec": {
      "name": "python3",
      "display_name": "Python 3"
    },
    "language_info": {
      "name": "python"
    }
  },
  "cells": [
    {
      "cell_type": "markdown",
      "source": [
        "# 1.What is Object-Oriented Programming (OOP)\n",
        " - Object-oriented programming (OOP) in Python is all about creating classes (blueprints/templates) instead of creating only functions. Developers can create objects (instances) from these classes. This approach promotes code reuse and making the code easier to maintain,and optimize.\n",
        "\n",
        "# 2.What is a class in OOP\n",
        " - class is a blueprint/template is oops , which is resure everytime related code is required to be resued. Example: str,int,list,dict are build in classes.\n",
        "\n",
        "# 3.What is an object in OOP\n",
        " - An object is an instance of a class.Object represent the class , its behaviour,attributes and methods.\n",
        "\n",
        "# 4.What is the difference between abstraction and encapsulation\n",
        " - Abstraction: is the concept of hiding the implementation details of a class.To reduce complexity and improve code clarity by exposing only the necessary parts of a class.\n",
        " Encapsulation:Encapsulation is the concept of restricting access to the varibales/methods and controlling modifications to its attributes through methods.\n",
        "\n",
        "# 5.What are dunder methods in Python\n",
        " - Dunder methods are 'Double Underscore'[__] build in methods,these are used to creating custom objects. these are used to implement operator overloading in python. ex: ___init__,__add__\n",
        "\n",
        "# 6.Explain the concept of inheritance in OOP\n",
        " - inheritance is ,when once class inherit properties/methods/attributes for one or more class other class , then it called class inheritance. It can be single class inheritance, multiclass inheritance, or hybrid inheritance.\n",
        "\n",
        "# 7.What is polymorphism in OOP\n",
        " - It means many state/forms, when object takes many forms depnding on the data/method.It takes 2 ways in python:\n",
        " 1. Method Overloading\n",
        " 2. Method overrding.\n",
        "\n",
        "# 8.How is encapsulation achieved in Python\n",
        " - Through private or protected varibale and methods.Prefixing an attribute/method with _ indicates it is protected.Prefixing with __ makes it private (cannot be accessed directly outside the class).\n",
        "\n",
        "# 9.What is a constructor in Python\n",
        " - Constructor is a special/dunder method to initailize the attribute. Its called automatically when a object of a class is instantiated.__init__, which stands for \"initialize\".\n",
        "\n",
        "# 10.What are class and static methods in Python\n",
        " - Class method - Class method are used only in class , you can't access it anywhere. a keyword '@classmethod' needs to prefixed in order to identify it a class method.\n",
        "  - Static method- Static method is stamndalone function within a class, its can't modified at all. @staticmethod keyword is used to idnetify ita class method.\n",
        "\n",
        "# 11.What is method overloading in Python\n",
        " - Method overloading in Python is the ability to define multiple methods in the same class with the same name but different parameters.\n",
        "\n",
        "# 12.What is method overriding in OOP\n",
        " - Method overriding is when a childclass/subclass feature can overide the method of superclass which was defined there.\n",
        "\n",
        "# 13.What is a property decorator in Python\n",
        " - property decorator in Python is used to define a method as a property.\n",
        "\n",
        "# 14.Why is polymorphism important in OOP\n",
        " - polymorphism increases the reusability of code as well optimize the code.\n",
        "\n",
        "# 15.What is an abstract class in Python\n",
        " - abstract class object can't be created, it is denoted as @abstractmethod.Abstract method has no implementation.\n",
        "\n",
        "# 16.What are the advantages of OOP\n",
        " - Code reuseablity increases with OOP.Its make code maintanance easier.\n",
        "\n",
        "# 17.What is multiple inheritance in Python\n",
        " - Multiple inheritance in Python is when a class inherits from more than one parent class.\n",
        "\n",
        "# 18.What is the difference between a class variable and an instance variable\n",
        " - Class veribale is shared by all instances of the class.It is defined inside the class, outside methods.\n",
        " - Instance variable is unique to each instance of the class.Inside methods, usually in the __init__ method.\n",
        "\n",
        "# 19.Explain the purpose of ‘’__str__’ and ‘__repr__’ ‘ methods in Python\n",
        " -__str__ , Provide a readable and user-friendly output of the object.\n",
        " - _-repr__,precise representation, often useful for developers.\n",
        "\n",
        "# 20.What is the significance of the ‘super()’ function in Python\n",
        " - 'super()' keyword is use to call method of a parent to subclass.\n",
        "\n",
        "# 21.What is the significance of the __del__ method in Python\n",
        " - The __del__ method in Python,that is called when an object is about to be destroyed.\n",
        "\n",
        "# 22.What is the difference between @staticmethod and @classmethod in Python\n",
        " - Class method - Class method are used only in class , you can't access it anywhere. a keyword '@classmethod' needs to prefixed in order to identify it a class method.\n",
        "  - Static method- Static method is stamndalone function within a class, its can't modified at all. @staticmethod keyword is used to idnetify ita class method.\n",
        "\n",
        "# 23.How does polymorphism work in Python with inheritance\n",
        " - it allows subclass to override methods of parentclass/superclass.\n",
        "\n",
        "# 24.What is method chaining in Python OOP\n",
        " - Calling multiple methods on the same object in a single line, where each method returns the object itself (usually with self).\n",
        "\n",
        "# 25.What is the purpose of the __call__ method in Python?\n",
        " - The __call__ method in Python allows an instance of a class to be invoked as a function, enabling objects to behave like callable functions."
      ],
      "metadata": {
        "id": "sm1G06zzixYx"
      }
    },
    {
      "cell_type": "code",
      "source": [
        "# **Practical Question**\n",
        "# 1. Create a parent class Animal with a method speak() that prints a generic message. Create a child class Dog\n",
        "# that overrides the speak() method to print \"Bark!\".\n",
        "\n",
        "class Animal():\n",
        "  def speak(self):\n",
        "    print(\"Animals waiting food\")\n",
        "class Dog(Animal):\n",
        "  def speak(self):\n",
        "    print(\"Bark!\")\n",
        "myDog=Dog()\n",
        "myDog.speak()\n"
      ],
      "metadata": {
        "colab": {
          "base_uri": "https://localhost:8080/"
        },
        "id": "BUINtga5oOJd",
        "outputId": "29a73e56-4e2c-4bb2-e117-f6f9a867e568"
      },
      "execution_count": null,
      "outputs": [
        {
          "output_type": "stream",
          "name": "stdout",
          "text": [
            "Bark!\n"
          ]
        }
      ]
    },
    {
      "cell_type": "code",
      "source": [
        "from abc import abstractmethod\n",
        "# 2. Write a program to create an abstract class Shape with a method area(). Derive classes Circle and Rectangle\n",
        "# from it and implement the area() method in both.\n",
        "\n",
        "class Shapes:\n",
        "  @abstractmethod\n",
        "  def area(self):\n",
        "    pass\n",
        "class Circle(Shapes):\n",
        "  def area(self):\n",
        "    print(\"The circle area\")\n",
        "class Rectangle(Shapes):\n",
        "  def area(self):\n",
        "    print(\"The rectangle area\")\n",
        "myShape1=Circle()\n",
        "myShape2=Rectangle()\n",
        "myShape1.area()\n",
        "myShape2.area()"
      ],
      "metadata": {
        "colab": {
          "base_uri": "https://localhost:8080/"
        },
        "id": "rjcVsQ-nrGeh",
        "outputId": "f700c7d2-76f5-40ed-d56a-9b63c82ef7b5"
      },
      "execution_count": null,
      "outputs": [
        {
          "output_type": "stream",
          "name": "stdout",
          "text": [
            "The circle area\n",
            "The rectangle area\n"
          ]
        }
      ]
    },
    {
      "cell_type": "code",
      "source": [
        "#  3. Implement a multi-level inheritance scenario where a class Vehicle has an attribute type. Derive a class Car\n",
        "# and further derive a class ElectricCar that adds a battery attribute\n",
        "class Vehicle:\n",
        "  def type_vehicle(self):\n",
        "    print(\"this is vehicle\")\n",
        "\n",
        "class Car(Vehicle):\n",
        "  def type_car(self):\n",
        "    print(\"this is car\")\n",
        "\n",
        "class ElectricCar(Car):\n",
        "  def battery(self):\n",
        "    print(\"this is battary\")\n",
        "myCar=ElectricCar()\n",
        "myCar.battery()\n",
        "myCar.type_car()\n",
        "myCar.type_vehicle()"
      ],
      "metadata": {
        "colab": {
          "base_uri": "https://localhost:8080/"
        },
        "id": "KyFe1o9ZuQMd",
        "outputId": "07dc8a75-90f6-4a44-edb8-6310883cc527"
      },
      "execution_count": null,
      "outputs": [
        {
          "output_type": "stream",
          "name": "stdout",
          "text": [
            "this is battary\n",
            "this is car\n",
            "this is vehicle\n"
          ]
        }
      ]
    },
    {
      "cell_type": "code",
      "source": [
        "# 4. Implement a multi-level inheritance scenario where a class Vehicle has an attribute type. Derive a class Car\n",
        "# and further derive a class ElectricCar that adds a battery attribute.\n",
        "\n",
        "class Vehicle: # Question no 4 is a repetation of question no 3.\n",
        "  def type_vehicle(self):\n",
        "    print(\"this is vehicle\")\n",
        "\n",
        "class Car(Vehicle):\n",
        "  def type_car(self):\n",
        "    print(\"this is car\")\n",
        "\n",
        "class ElectricCar(Car):\n",
        "  def battery(self):\n",
        "    print(\"this is battary\")\n",
        "myCar=ElectricCar()\n",
        "myCar.battery()\n",
        "myCar.type_car()\n",
        "myCar.type_vehicle()\n"
      ],
      "metadata": {
        "id": "Te-rMk3HwG47"
      },
      "execution_count": null,
      "outputs": []
    },
    {
      "cell_type": "code",
      "source": [
        "#  5. Write a program to demonstrate encapsulation by creating a class BankAccount with private attributes\n",
        "# balance and methods to deposit, withdraw, and check balance\n",
        "\n",
        "class BankAccount:\n",
        "  def __init__(self, balance):\n",
        "      self.__balance = balance\n",
        "  def deposit(self, amount):\n",
        "    if amount>0:\n",
        "      self.__balance+=amount\n",
        "      print(f\"Deposit is {amount} and Balance is now {self.__balance}\")\n",
        "    else:\n",
        "      print(\"Deposit amount must be greater than zero.\")\n",
        "  def withdrawl(self,amount):\n",
        "    if 0 < amount <= self.__balance:\n",
        "      self.__balance -= amount\n",
        "      print(f\"Withdrawal is {amount} and Balance is now {self.__balance}\")\n",
        "    else:\n",
        "      print(\"Insufficient balance\")\n",
        "  def check_balance(self):\n",
        "    print(f\"Final balance is {self.__balance}\")\n",
        "\n",
        "myAccount = BankAccount(1000)\n",
        "myAccount.deposit(2000)\n",
        "myAccount.withdrawl(500)\n",
        "myAccount.check_balance()"
      ],
      "metadata": {
        "colab": {
          "base_uri": "https://localhost:8080/"
        },
        "id": "BTT7S_8Tweua",
        "outputId": "90d11016-c959-4be5-d8e4-b8d10c465202"
      },
      "execution_count": null,
      "outputs": [
        {
          "output_type": "stream",
          "name": "stdout",
          "text": [
            "Deposit is 2000 and Balance is now 3000\n",
            "Withdrawal is 500 and Balance is now 2500\n",
            "Final balance is 2500\n"
          ]
        }
      ]
    },
    {
      "cell_type": "code",
      "source": [
        "# 6. Demonstrate runtime polymorphism using a method play() in a base class Instrument. Derive classes Guitar\n",
        "# and Piano that implement their own version of play().\n",
        "\n",
        "class Instrument:\n",
        "  def play(self):\n",
        "    pass\n",
        "class Guiter(Instrument):\n",
        "  def play(self):\n",
        "    print(\"Guitar is playing\")\n",
        "class Piano(Instrument):\n",
        "  def play(self):\n",
        "    print(\"Piano is playing\")\n",
        "\n",
        "myInstrument1=Guiter()\n",
        "myInstrument2=Piano()\n",
        "myInstrument1.play()\n",
        "myInstrument2.play()\n"
      ],
      "metadata": {
        "id": "W8dx_fsL4pbw",
        "colab": {
          "base_uri": "https://localhost:8080/"
        },
        "outputId": "980cfe3e-d7e8-4479-9273-6c79652cb588"
      },
      "execution_count": 1,
      "outputs": [
        {
          "output_type": "stream",
          "name": "stdout",
          "text": [
            "Guiter play\n",
            "Piano play\n"
          ]
        }
      ]
    },
    {
      "cell_type": "code",
      "source": [
        "# 7. Create a class MathOperations with a class method add_numbers() to add two numbers and a static\n",
        "# method subtract_numbers() to subtract two numbers.\n",
        "\n",
        "class MathOperations:\n",
        "  @classmethod\n",
        "  def add_numbers(cls,a,b):\n",
        "    return a+b\n",
        "  @staticmethod\n",
        "  def subtract_numbers(a,b):\n",
        "    return a-b\n",
        "object1=MathOperations()\n",
        "print(object1.add_numbers(2,3))\n",
        "print(object1.subtract_numbers(16,7))\n"
      ],
      "metadata": {
        "colab": {
          "base_uri": "https://localhost:8080/"
        },
        "id": "WXa7k_GR1Q47",
        "outputId": "cbccf2e3-1672-4bc6-ff0f-a2e19e934a83"
      },
      "execution_count": 3,
      "outputs": [
        {
          "output_type": "stream",
          "name": "stdout",
          "text": [
            "5\n",
            "9\n"
          ]
        }
      ]
    },
    {
      "cell_type": "code",
      "source": [
        "# 8. Implement a class Person with a class method to count the total number of persons created.\n",
        "\n",
        "class Person:\n",
        "  total_person_count=0\n",
        "  @classmethod\n",
        "  def count_persons(cls):\n",
        "    cls.total_person_count+=1\n",
        "    return cls.total_person_count\n",
        "\n",
        "P1=Person()\n",
        "print(P1.count_persons())\n",
        "P2=Person()\n",
        "print(P1.count_persons())\n",
        "P3=Person()\n",
        "print(P3.count_persons())\n",
        "P4=Person()\n",
        "print(P4.count_persons())"
      ],
      "metadata": {
        "colab": {
          "base_uri": "https://localhost:8080/"
        },
        "id": "00khEMjR2bVS",
        "outputId": "1f3eb412-4361-48c1-f57d-4913c5b20efb"
      },
      "execution_count": 11,
      "outputs": [
        {
          "output_type": "stream",
          "name": "stdout",
          "text": [
            "1\n",
            "2\n",
            "3\n",
            "4\n"
          ]
        }
      ]
    },
    {
      "cell_type": "code",
      "source": [
        "# 9. Write a class Fraction with attributes numerator and denominator. Override the str method to display the\n",
        "# fraction as \"numerator/denominator\".\n",
        "\n",
        "class Fraction:\n",
        "    def __init__(self, numerator, denominator):\n",
        "        self.numerator = numerator\n",
        "        self.denominator = denominator\n",
        "    def __str__(self):\n",
        "        return f\"{self.numerator}/{self.denominator}\"\n",
        "\n",
        "fraction1 = Fraction(3, 4)\n",
        "fraction2 = Fraction(5, 6)\n",
        "\n",
        "print(fraction1)\n",
        "print(fraction2)\n"
      ],
      "metadata": {
        "colab": {
          "base_uri": "https://localhost:8080/"
        },
        "id": "a5HZeWup4ZMW",
        "outputId": "8f82ed67-71f6-4b02-f829-200a76126b57"
      },
      "execution_count": 12,
      "outputs": [
        {
          "output_type": "stream",
          "name": "stdout",
          "text": [
            "3/4\n",
            "5/6\n"
          ]
        }
      ]
    },
    {
      "cell_type": "code",
      "source": [
        "# 10. Demonstrate operator overloading by creating a class Vector and overriding the add method to add two\n",
        "# vectors.\n",
        "class Vector:\n",
        "    def __init__(self, x, y):\n",
        "        self.x = x\n",
        "        self.y = y\n",
        "    def __add__(self, other):\n",
        "        return Vector(self.x + other.x, self.y + other.y)\n",
        "    def __str__(self):\n",
        "        return f\"({self.x}, {self.y})\"\n",
        "v1 = Vector(2, 3)\n",
        "v2 = Vector(4, 5)\n",
        "\n",
        "result = v1 + v2\n",
        "\n",
        "print(f\"Vector 1: {v1}\")\n",
        "print(f\"Vector 2: {v2}\")\n",
        "print(f\"Result of addition: {result}\")\n"
      ],
      "metadata": {
        "colab": {
          "base_uri": "https://localhost:8080/"
        },
        "id": "GGh4uONY6u2j",
        "outputId": "36b91308-0bdc-48aa-eb4c-bffa303c9cd2"
      },
      "execution_count": 13,
      "outputs": [
        {
          "output_type": "stream",
          "name": "stdout",
          "text": [
            "Vector 1: (2, 3)\n",
            "Vector 2: (4, 5)\n",
            "Result of addition: (6, 8)\n"
          ]
        }
      ]
    },
    {
      "cell_type": "code",
      "source": [
        "# 11. Create a class Person with attributes name and age. Add a method greet() that prints \"Hello, my name is\n",
        "# {name} and I am {age} years old.\"\n",
        "\n",
        "class Person:\n",
        "  def __init__(self,name,age):\n",
        "    self.name=name\n",
        "    self.age=age\n",
        "  def greet(self):\n",
        "    print(f\"Hello, my name is {self.name} and I am {self.age} years old.\")\n",
        "\n",
        "p1=Person(\"Python\",12)\n",
        "p1.greet()"
      ],
      "metadata": {
        "colab": {
          "base_uri": "https://localhost:8080/"
        },
        "id": "jdTFz5J58NPD",
        "outputId": "86be83fa-e4e6-459b-c753-46a62c087665"
      },
      "execution_count": 16,
      "outputs": [
        {
          "output_type": "stream",
          "name": "stdout",
          "text": [
            "Hello, my name is Python and I am 12 years old.\n"
          ]
        }
      ]
    },
    {
      "cell_type": "code",
      "source": [
        "#  12. Implement a class Student with attributes name and grades. Create a method average_grade() to compute\n",
        "# the average of the grades\n",
        "class Student:\n",
        "  def __init__(self,name,grade1,grade2,grade3):\n",
        "    self.name=name\n",
        "    self.grade1=grade1\n",
        "    self.grade2=grade2\n",
        "    self.grade3=grade3\n",
        "  def average_grade(self):\n",
        "    average_grade=(self.grade1+self.grade2+self.grade3)/3\n",
        "    return average_grade\n",
        "mystudent=Student(\"Vladimir\",78,98,85)\n",
        "print(mystudent.average_grade())"
      ],
      "metadata": {
        "colab": {
          "base_uri": "https://localhost:8080/"
        },
        "id": "78DjB9zj-gfW",
        "outputId": "d69edc58-ad97-44d5-a0ab-03d1dd95ca33"
      },
      "execution_count": 17,
      "outputs": [
        {
          "output_type": "stream",
          "name": "stdout",
          "text": [
            "87.0\n"
          ]
        }
      ]
    },
    {
      "cell_type": "code",
      "source": [
        "#  13. Create a class Rectangle with methods set_dimensions() to set the dimensions and area() to calculate the\n",
        "# area.\n",
        "class Rectangle:\n",
        "    def __init__(self):\n",
        "        self.length = 0\n",
        "        self.width = 0\n",
        "    def set_dimensions(self, length, width):\n",
        "        self.length = length\n",
        "        self.width = width\n",
        "    def area(self):\n",
        "        return self.length * self.width\n",
        "my_rectangle = Rectangle()\n",
        "my_rectangle.set_dimensions(5, 3)\n",
        "\n",
        "print(f\"Area of the rectangle: {my_rectangle.area()}\")"
      ],
      "metadata": {
        "colab": {
          "base_uri": "https://localhost:8080/"
        },
        "id": "nWEa7GD4A-dj",
        "outputId": "d48ddf0d-deee-49c7-b84c-670967d3a373"
      },
      "execution_count": 19,
      "outputs": [
        {
          "output_type": "stream",
          "name": "stdout",
          "text": [
            "Area of the rectangle: 15\n"
          ]
        }
      ]
    },
    {
      "cell_type": "code",
      "source": [
        "# 14. Create a class Employee with a method calculate_salary() that computes the salary based on hours worked\n",
        "# and hourly rate. Create a derived class Manager that adds a bonus to the salary.\n",
        "# Base class Employee\n",
        "class Employee:\n",
        "    def __init__(self, name, hours_worked, hourly_rate):\n",
        "        self.name = name\n",
        "        self.hours_worked = hours_worked\n",
        "        self.hourly_rate = hourly_rate\n",
        "    def calculate_salary(self):\n",
        "        return self.hours_worked * self.hourly_rate\n",
        "\n",
        "class Manager(Employee):\n",
        "    def __init__(self, name, hours_worked, hourly_rate, bonus):\n",
        "        super().__init__(name, hours_worked, hourly_rate)\n",
        "        self.bonus = bonus\n",
        "    def calculate_salary(self):\n",
        "        base_salary = super().calculate_salary()\n",
        "        return base_salary + self.bonus\n",
        "\n",
        "\n",
        "employee = Employee(\"Vladimir\", 10, 12)\n",
        "print(f\"Employee Salary is {employee.calculate_salary()}\")\n",
        "\n",
        "manager = Manager(\"Putin\", 20, 12,200)\n",
        "print(f\"Manager Salary is {manager.calculate_salary()}\")\n"
      ],
      "metadata": {
        "colab": {
          "base_uri": "https://localhost:8080/"
        },
        "id": "fJyeWz1BDMMX",
        "outputId": "27bf4882-d36c-4e10-b5df-f6d4be5605eb"
      },
      "execution_count": 22,
      "outputs": [
        {
          "output_type": "stream",
          "name": "stdout",
          "text": [
            "Employee Salary is 120\n",
            "Manager Salary is 440\n"
          ]
        }
      ]
    },
    {
      "cell_type": "code",
      "source": [
        "# 15. Create a class Product with attributes name, price, and quantity. Implement a method total_price() that\n",
        "# calculates the total price of the product\n",
        "\n",
        "class Product:\n",
        "  def __init__(self,name,price,quantity):\n",
        "    self.name=name\n",
        "    self.price=price\n",
        "    self.quantity=quantity\n",
        "  def total_price(self):\n",
        "    total_price=self.price*self.quantity\n",
        "    return total_price\n",
        "product1=Product(\"Telcom powder\",100,8)\n",
        "print(f\"Total price of the product is:{product1.total_price()}\")"
      ],
      "metadata": {
        "colab": {
          "base_uri": "https://localhost:8080/"
        },
        "id": "-ybL1PRaEiJV",
        "outputId": "ec02aa80-eeb8-4ce3-ff20-a8f8119cc24a"
      },
      "execution_count": 28,
      "outputs": [
        {
          "output_type": "stream",
          "name": "stdout",
          "text": [
            "Total price of the product is:800\n"
          ]
        }
      ]
    },
    {
      "cell_type": "code",
      "source": [
        "#  16. Create a class Animal with an abstract method sound(). Create two derived classes Cow and Sheep that\n",
        "# implement the sound() method\n",
        "from abc import ABC\n",
        "class Animal:\n",
        "    @abstractmethod\n",
        "    def sound(self):\n",
        "        pass\n",
        "class Cow(Animal):\n",
        "    def sound(self):\n",
        "        return \"Humba\"\n",
        "class Sheep(Animal):\n",
        "    def sound(self):\n",
        "        return \"Baa\"\n",
        "\n",
        "cow = Cow()\n",
        "sheep = Sheep()\n",
        "\n",
        "print(f\"Cow sound is {cow.sound()}\")\n",
        "print(f\"Sheep sound is {sheep.sound()}\")\n"
      ],
      "metadata": {
        "colab": {
          "base_uri": "https://localhost:8080/"
        },
        "id": "nf8c2WEtFzWU",
        "outputId": "ee6c4c73-a079-46c7-a374-db4e9fba217c"
      },
      "execution_count": 32,
      "outputs": [
        {
          "output_type": "stream",
          "name": "stdout",
          "text": [
            "Cow sound is Humba\n",
            "Sheep sound is Baa\n"
          ]
        }
      ]
    },
    {
      "cell_type": "code",
      "source": [
        "#  17. Create a class Book with attributes title, author, and year_published. Add a method get_book_info() that\n",
        "# returns a formatted string with the book's details\n",
        "\n",
        "class Book:\n",
        "    def __init__(self, title, author, year_published):\n",
        "        self.title = title\n",
        "        self.author = author\n",
        "        self.year_published = year_published\n",
        "\n",
        "    def get_book_info(self):\n",
        "        print(f\"Title of the book is `{self.title}`,Author of the book is `{self.author}`,book was published in `{self.year_published}`\")\n",
        "\n",
        "book1 = Book(\"Python and data analytics\",\"M.K.Stalin\",2022)\n",
        "print(book1.get_book_info())"
      ],
      "metadata": {
        "colab": {
          "base_uri": "https://localhost:8080/"
        },
        "id": "RLNZpM5BGn7z",
        "outputId": "c33b7783-5044-4ae8-b7e8-6c8be01ba54e"
      },
      "execution_count": 35,
      "outputs": [
        {
          "output_type": "stream",
          "name": "stdout",
          "text": [
            "Title of the book is `Python and data analytics`,Author of the book is `M.K.Stalin`,book was published in `2022`\n",
            "None\n"
          ]
        }
      ]
    },
    {
      "cell_type": "code",
      "source": [
        "# 18. Create a class House with attributes address and price. Create a derived class Mansion that adds an\n",
        "# attribute number_of_rooms\n",
        "\n",
        "class House:\n",
        "    def __init__(self, address, price):\n",
        "        self.address = address\n",
        "        self.price = price\n",
        "class Mansion(House):\n",
        "    def __init__(self, address, price, number_of_rooms):\n",
        "        super().__init__(address, price)\n",
        "        self.number_of_rooms = number_of_rooms\n",
        "\n",
        "mymansion = Mansion(\"Saptagram\",2000000,5)\n",
        "print(mymansion.address)\n",
        "print(mymansion.number_of_rooms)\n",
        "print(mymansion.price)\n"
      ],
      "metadata": {
        "colab": {
          "base_uri": "https://localhost:8080/"
        },
        "id": "TquOmw3lHt1w",
        "outputId": "f77a75ba-1404-4ceb-cd61-fb38e0406f6a"
      },
      "execution_count": 40,
      "outputs": [
        {
          "output_type": "stream",
          "name": "stdout",
          "text": [
            "Saptagram\n",
            "5\n",
            "2000000\n"
          ]
        }
      ]
    }
  ]
}